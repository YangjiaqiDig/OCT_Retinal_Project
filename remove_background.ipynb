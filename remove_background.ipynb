{
 "cells": [
  {
   "cell_type": "code",
   "execution_count": 2,
   "metadata": {},
   "outputs": [],
   "source": [
    "from PIL import Image, ImageEnhance, ImageDraw, ImageFilter\n",
    "import numpy as np\n",
    "import cv2\n",
    "import glob\n",
    "import matplotlib.pyplot as plt\n",
    "\n",
    "def preprocessing_last(image_path):\n",
    "    img = np.array(cv2.imread(image_path))\n",
    "    image = img.copy()\n",
    "    image[image > 250] = 0\n",
    "    image = Image.fromarray(image)\n",
    "    # width, height = image.shape[0], image.shape[1]\n",
    "    # for corner in [(0,0),(0,height),(width,0),(width, height)]:\n",
    "    #     color = (0,0,0,0)\n",
    "    #     ImageDraw.floodfill(image2, xy=corner, value=color,thresh=150)\n",
    "    #increasing the contrast 20%\n",
    "    \n",
    "    image = image.filter(ImageFilter.MinFilter(3))\n",
    "    image = ImageEnhance.Contrast(image).enhance(2)\n",
    "    \n",
    "    # image = ImageEnhance.Sharpness(image2).enhance(1.3)\n",
    "    # image = ImageEnhance.Brightness(image2).enhance(1.3)\n",
    "    image = np.array(image)\n",
    "    gray = cv2.cvtColor(image, cv2.COLOR_BGR2GRAY)\n",
    "    mask = np.zeros(image.shape, np.uint8)\n",
    "    \n",
    "    gray = cv2.medianBlur(gray, 5)\n",
    "    ret, gray = cv2.threshold(gray, 30,255,cv2.THRESH_BINARY)\n",
    "    # gray = cv2.adaptiveThreshold(gray, 255,cv2.ADAPTIVE_THRESH_GAUSSIAN_C, cv2.THRESH_BINARY, 11,2)\n",
    "    # ret, gray = cv2.threshold(gray, 0, 255, cv2.THRESH_BINARY | cv2.THRESH_OTSU)\n",
    "    \n",
    "    closing_kernel = np.ones((15,15),np.uint8)\n",
    "    closing = cv2.morphologyEx(gray, cv2.MORPH_CLOSE, closing_kernel, iterations=1)\n",
    "    # closing = cv2.morphologyEx(closing, cv2.MORPH_OPEN, closing_kernel, iterations=1)\n",
    "\n",
    "    contours, _ = cv2.findContours(closing.copy(), cv2.RETR_EXTERNAL, cv2.CHAIN_APPROX_SIMPLE)\n",
    "    largest_area = sorted(contours, key=cv2.contourArea)[-1:]\n",
    "    cv2.drawContours(mask, largest_area, 0, (255,255,255), cv2.FILLED)\n",
    "    # print(mask.shape)\n",
    "    dst = cv2.bitwise_and(img, mask)\n",
    "\n",
    "    # mask = 255 - mask\n",
    "    # roi = cv2.add(dst, mask)\n",
    "    # roi = mask / 255 * dst\n",
    "\n",
    "    # selection = image.copy()\n",
    "    # selection[roi == 255] = 0\n",
    "    \n",
    "    return img, closing, mask, dst\n"
   ]
  },
  {
   "cell_type": "code",
   "execution_count": 3,
   "metadata": {},
   "outputs": [
    {
     "name": "stdout",
     "output_type": "stream",
     "text": [
      "[  0 255]\n"
     ]
    },
    {
     "ename": "NameError",
     "evalue": "name 'ss' is not defined",
     "output_type": "error",
     "traceback": [
      "\u001b[0;31m---------------------------------------------------------------------------\u001b[0m",
      "\u001b[0;31mNameError\u001b[0m                                 Traceback (most recent call last)",
      "\u001b[1;32m/ssd1/jiaqi/retinal_project/remove_background.ipynb Cell 2'\u001b[0m in \u001b[0;36m<module>\u001b[0;34m\u001b[0m\n\u001b[1;32m      <a href='vscode-notebook-cell://ssh-remote%2Bpanther.cs.qc.cuny.edu/ssd1/jiaqi/retinal_project/remove_background.ipynb#ch0000001vscode-remote?line=1'>2</a>\u001b[0m \u001b[39m# import random\u001b[39;00m\n\u001b[1;32m      <a href='vscode-notebook-cell://ssh-remote%2Bpanther.cs.qc.cuny.edu/ssd1/jiaqi/retinal_project/remove_background.ipynb#ch0000001vscode-remote?line=2'>3</a>\u001b[0m \u001b[39m# random.choice(range(10, 101))\u001b[39;00m\n\u001b[1;32m      <a href='vscode-notebook-cell://ssh-remote%2Bpanther.cs.qc.cuny.edu/ssd1/jiaqi/retinal_project/remove_background.ipynb#ch0000001vscode-remote?line=3'>4</a>\u001b[0m \u001b[39mfor\u001b[39;00m image_path \u001b[39min\u001b[39;00m daataset:\n\u001b[0;32m----> <a href='vscode-notebook-cell://ssh-remote%2Bpanther.cs.qc.cuny.edu/ssd1/jiaqi/retinal_project/remove_background.ipynb#ch0000001vscode-remote?line=4'>5</a>\u001b[0m     img, closing, mask, dst \u001b[39m=\u001b[39m preprocessing_last(image_path)\n\u001b[1;32m      <a href='vscode-notebook-cell://ssh-remote%2Bpanther.cs.qc.cuny.edu/ssd1/jiaqi/retinal_project/remove_background.ipynb#ch0000001vscode-remote?line=5'>6</a>\u001b[0m     \u001b[39mprint\u001b[39m(image_path)\n\u001b[1;32m      <a href='vscode-notebook-cell://ssh-remote%2Bpanther.cs.qc.cuny.edu/ssd1/jiaqi/retinal_project/remove_background.ipynb#ch0000001vscode-remote?line=6'>7</a>\u001b[0m     plt\u001b[39m.\u001b[39mfigure(figsize\u001b[39m=\u001b[39m(\u001b[39m8\u001b[39m,\u001b[39m8\u001b[39m))\n",
      "\u001b[1;32m/ssd1/jiaqi/retinal_project/remove_background.ipynb Cell 1'\u001b[0m in \u001b[0;36mpreprocessing_last\u001b[0;34m(image_path)\u001b[0m\n\u001b[1;32m     <a href='vscode-notebook-cell://ssh-remote%2Bpanther.cs.qc.cuny.edu/ssd1/jiaqi/retinal_project/remove_background.ipynb#ch0000000vscode-remote?line=39'>40</a>\u001b[0m dst \u001b[39m=\u001b[39m cv2\u001b[39m.\u001b[39mbitwise_and(img, mask)\n\u001b[1;32m     <a href='vscode-notebook-cell://ssh-remote%2Bpanther.cs.qc.cuny.edu/ssd1/jiaqi/retinal_project/remove_background.ipynb#ch0000000vscode-remote?line=40'>41</a>\u001b[0m \u001b[39mprint\u001b[39m(np\u001b[39m.\u001b[39munique(mask))\n\u001b[0;32m---> <a href='vscode-notebook-cell://ssh-remote%2Bpanther.cs.qc.cuny.edu/ssd1/jiaqi/retinal_project/remove_background.ipynb#ch0000000vscode-remote?line=41'>42</a>\u001b[0m ss\n\u001b[1;32m     <a href='vscode-notebook-cell://ssh-remote%2Bpanther.cs.qc.cuny.edu/ssd1/jiaqi/retinal_project/remove_background.ipynb#ch0000000vscode-remote?line=42'>43</a>\u001b[0m \u001b[39m# mask = 255 - mask\u001b[39;00m\n\u001b[1;32m     <a href='vscode-notebook-cell://ssh-remote%2Bpanther.cs.qc.cuny.edu/ssd1/jiaqi/retinal_project/remove_background.ipynb#ch0000000vscode-remote?line=43'>44</a>\u001b[0m \u001b[39m# roi = cv2.add(dst, mask)\u001b[39;00m\n\u001b[1;32m     <a href='vscode-notebook-cell://ssh-remote%2Bpanther.cs.qc.cuny.edu/ssd1/jiaqi/retinal_project/remove_background.ipynb#ch0000000vscode-remote?line=44'>45</a>\u001b[0m \u001b[39m# roi = mask / 255 * dst\u001b[39;00m\n\u001b[1;32m     <a href='vscode-notebook-cell://ssh-remote%2Bpanther.cs.qc.cuny.edu/ssd1/jiaqi/retinal_project/remove_background.ipynb#ch0000000vscode-remote?line=45'>46</a>\u001b[0m \n\u001b[1;32m     <a href='vscode-notebook-cell://ssh-remote%2Bpanther.cs.qc.cuny.edu/ssd1/jiaqi/retinal_project/remove_background.ipynb#ch0000000vscode-remote?line=46'>47</a>\u001b[0m \u001b[39m# selection = image.copy()\u001b[39;00m\n\u001b[1;32m     <a href='vscode-notebook-cell://ssh-remote%2Bpanther.cs.qc.cuny.edu/ssd1/jiaqi/retinal_project/remove_background.ipynb#ch0000000vscode-remote?line=47'>48</a>\u001b[0m \u001b[39m# selection[roi == 255] = 0\u001b[39;00m\n\u001b[1;32m     <a href='vscode-notebook-cell://ssh-remote%2Bpanther.cs.qc.cuny.edu/ssd1/jiaqi/retinal_project/remove_background.ipynb#ch0000000vscode-remote?line=49'>50</a>\u001b[0m \u001b[39mreturn\u001b[39;00m img, closing, mask, dst\n",
      "\u001b[0;31mNameError\u001b[0m: name 'ss' is not defined"
     ]
    }
   ],
   "source": [
    "daataset = glob.glob(\"our_dataset/original/test/DME-2*\")\n",
    "# import random\n",
    "# random.choice(range(10, 101))\n",
    "for image_path in daataset:\n",
    "    img, closing, mask, dst = preprocessing_last(image_path)\n",
    "    print(image_path)\n",
    "    plt.figure(figsize=(8,8))\n",
    "    plt.subplot(2,2,1)\n",
    "    plt.imshow(img, cmap='gray', vmin=0, vmax=255)\n",
    "    # plt.plot(img, camp='gray')\n",
    "    plt.subplot(2,2,2)\n",
    "    plt.imshow(closing, cmap='gray', vmin=0, vmax=255)\n",
    "    # plt.plot(closing)\n",
    "    plt.subplot(2,2,3)\n",
    "    plt.imshow(mask, cmap='gray', vmin=0, vmax=255)\n",
    "    # plt.plot(mask)\n",
    "    plt.subplot(2,2,4)\n",
    "    plt.imshow(dst)\n",
    "    # plt.plot(dst)\n",
    "    # plt.plot(selection)\n",
    "    \n",
    "    plt.show()\n",
    "    # import pdb; pdb.set_trace()"
   ]
  },
  {
   "cell_type": "code",
   "execution_count": 22,
   "metadata": {},
   "outputs": [
    {
     "data": {
      "text/plain": [
       "(0, [])"
      ]
     },
     "execution_count": 22,
     "metadata": {},
     "output_type": "execute_result"
    }
   ],
   "source": [
    "import glob\n",
    "\n",
    "list_images = glob.glob('outputs_background/*/20.jpg')\n",
    "len(list_images), list_images[:3]"
   ]
  },
  {
   "cell_type": "code",
   "execution_count": 12,
   "metadata": {},
   "outputs": [
    {
     "name": "stdout",
     "output_type": "stream",
     "text": [
      "Done\n"
     ]
    }
   ],
   "source": [
    "import torchvision.utils as vutils\n",
    "from torchvision.io import read_image\n",
    "for img_path in list_images:\n",
    "    img = read_image(img_path)\n",
    "    vutils.save_image(img.unsqueeze(1) / 255, img_path, normalize=True, scale_each=True)\n",
    "print('Done')"
   ]
  },
  {
   "cell_type": "code",
   "execution_count": null,
   "metadata": {},
   "outputs": [],
   "source": []
  }
 ],
 "metadata": {
  "interpreter": {
   "hash": "3859ef2d938cfec5d23bf1098d4a5d2863751f279caf158ea7d48df6834dfa36"
  },
  "kernelspec": {
   "display_name": "Python 3.8.0 ('retinalenv')",
   "language": "python",
   "name": "python3"
  },
  "language_info": {
   "codemirror_mode": {
    "name": "ipython",
    "version": 3
   },
   "file_extension": ".py",
   "mimetype": "text/x-python",
   "name": "python",
   "nbconvert_exporter": "python",
   "pygments_lexer": "ipython3",
   "version": "3.8.0"
  },
  "orig_nbformat": 4
 },
 "nbformat": 4,
 "nbformat_minor": 2
}
